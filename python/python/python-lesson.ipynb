{
 "metadata": {
  "name": ""
 },
 "nbformat": 3,
 "nbformat_minor": 0,
 "worksheets": [
  {
   "cells": [
    {
     "cell_type": "heading",
     "level": 2,
     "metadata": {
      "cell_tags": []
     },
     "source": [
      "Analyzing Patient Data"
     ]
    },
    {
     "cell_type": "markdown",
     "metadata": {
      "cell_tags": []
     },
     "source": [
      "    0,0,1,3,1,2,4,7,8,3,3,3,10,5,7,4,7,7,12,18,6,13,11,11,7,7,4,6,8,8,4,4,5,7,3,4,2,3,0,0\n",
      "    0,1,2,1,2,1,3,2,2,6,10,11,5,9,4,4,7,16,8,6,18,4,12,5,12,7,11,5,11,3,3,5,4,4,5,5,1,1,0,1\n",
      "    0,1,1,3,3,2,6,2,5,9,5,7,4,5,4,15,5,11,9,10,19,14,12,17,7,12,11,7,4,2,10,5,4,2,2,3,2,2,1,1\n",
      "    0,0,2,0,4,2,2,1,6,7,10,7,9,13,8,8,15,10,10,7,17,4,4,7,6,15,6,4,9,11,3,5,6,3,3,4,2,3,2,1\n",
      "    0,1,1,3,3,1,3,5,2,4,4,7,6,5,3,10,8,10,6,17,9,14,9,7,13,9,12,6,7,7,9,6,3,2,2,4,2,0,1,1"
     ]
    },
    {
     "cell_type": "heading",
     "level": 3,
     "metadata": {
      "cell_tags": []
     },
     "source": [
      "Loading Data"
     ]
    },
    {
     "cell_type": "code",
     "collapsed": false,
     "input": [],
     "language": "python",
     "metadata": {},
     "outputs": []
    },
    {
     "cell_type": "markdown",
     "metadata": {
      "cell_tags": [
       "challenges"
      ]
     },
     "source": [
      "#### Challenges\n",
      "\n",
      "1.  Draw diagrams showing what variables refer to what values after each statement in the following program:\n",
      "\n",
      "    ~~~python\n",
      "    mass = 47.5\n",
      "    age = 122\n",
      "    mass = mass * 2.0\n",
      "    age = age - 20\n",
      "    ~~~\n",
      "\n",
      "1.  What does the following program print out?\n",
      "    ~~~python\n",
      "    first, second = 'Grace', 'Hopper'\n",
      "    third, fourth = second, first\n",
      "    print third, fourth\n",
      "    ~~~"
     ]
    },
    {
     "cell_type": "heading",
     "level": 3,
     "metadata": {
      "cell_tags": []
     },
     "source": [
      "Manipulating Data"
     ]
    },
    {
     "cell_type": "code",
     "collapsed": false,
     "input": [],
     "language": "python",
     "metadata": {},
     "outputs": []
    },
    {
     "cell_type": "markdown",
     "metadata": {
      "cell_tags": [
       "challenges"
      ]
     },
     "source": [
      "#### Challenges\n",
      "\n",
      "A subsection of an array is called a [slice](../../gloss.html#slice).\n",
      "We can take slices of character strings as well:"
     ]
    },
    {
     "cell_type": "code",
     "collapsed": false,
     "input": [
      "element = 'oxygen'\n",
      "print 'first three characters:', element[0:3]\n",
      "print 'last three characters:', element[3:6]"
     ],
     "language": "python",
     "metadata": {
      "cell_tags": [
       "challenges"
      ]
     },
     "outputs": []
    },
    {
     "cell_type": "markdown",
     "metadata": {
      "cell_tags": [
       "challenges"
      ]
     },
     "source": [
      "1.  What is the value of `element[:4]`?\n",
      "    What about `element[4:]`?\n",
      "    Or `element[:]`?\n",
      "\n",
      "1.  What is `element[-1]`?\n",
      "    What is `element[-2]`?\n",
      "    Given those answers,\n",
      "    explain what `element[1:-1]` does.\n",
      "\n",
      "1.  The expression `element[3:3]` produces an [empty string](../../gloss.html#empty-string),\n",
      "    i.e., a string that contains no characters.\n",
      "    If `data` holds our array of patient data,\n",
      "    what does `data[3:3, 4:4]` produce?\n",
      "    What about `data[3:3, :]`?"
     ]
    },
    {
     "cell_type": "heading",
     "level": 3,
     "metadata": {
      "cell_tags": []
     },
     "source": [
      "Plotting"
     ]
    },
    {
     "cell_type": "code",
     "collapsed": false,
     "input": [],
     "language": "python",
     "metadata": {},
     "outputs": []
    },
    {
     "cell_type": "markdown",
     "metadata": {
      "cell_tags": [
       "challenges"
      ]
     },
     "source": [
      "#### Challenges\n",
      "\n",
      "1.  Why do all of our plots stop just short of the upper end of our graph?\n",
      "    Why are the vertical lines in our plot of the minimum inflammation per day not vertical?\n",
      "\n",
      "1.  Create a plot showing the standard deviation of the inflammation data for each day across all patients."
     ]
    },
    {
     "cell_type": "heading",
     "level": 3,
     "metadata": {
      "cell_tags": []
     },
     "source": [
      "Wrapping Up"
     ]
    },
    {
     "cell_type": "code",
     "collapsed": false,
     "input": [],
     "language": "python",
     "metadata": {},
     "outputs": []
    },
    {
     "cell_type": "markdown",
     "metadata": {
      "cell_tags": [
       "challenges"
      ]
     },
     "source": [
      "#### Challenges\n",
      "\n",
      "1.  Modify the program to display the three plots on top of one another instead of side by side."
     ]
    },
    {
     "cell_type": "heading",
     "level": 2,
     "metadata": {
      "cell_tags": []
     },
     "source": [
      "Creating Functions"
     ]
    },
    {
     "cell_type": "heading",
     "level": 3,
     "metadata": {
      "cell_tags": []
     },
     "source": [
      "Defining a Function"
     ]
    },
    {
     "cell_type": "code",
     "collapsed": false,
     "input": [],
     "language": "python",
     "metadata": {},
     "outputs": []
    },
    {
     "cell_type": "heading",
     "level": 3,
     "metadata": {},
     "source": [
      "Debugging a Function"
     ]
    },
    {
     "cell_type": "code",
     "collapsed": false,
     "input": [],
     "language": "python",
     "metadata": {},
     "outputs": []
    },
    {
     "cell_type": "heading",
     "level": 3,
     "metadata": {},
     "source": [
      "Composing Functions"
     ]
    },
    {
     "cell_type": "code",
     "collapsed": false,
     "input": [],
     "language": "python",
     "metadata": {},
     "outputs": []
    },
    {
     "cell_type": "markdown",
     "metadata": {
      "cell_tags": [
       "challenges"
      ]
     },
     "source": [
      "#### Challenges\n",
      "\n",
      "1.  \"Adding\" two strings produces their concatention:\n",
      "    `'a' + 'b'` is `'ab'`.\n",
      "    Write a function called `fence` that takes two parameters called `original` and `wrapper`\n",
      "    and returns a new string that has the wrapper character at the beginning and end of the original:\n",
      "\n",
      "    ~~~python\n",
      "    print fence('name', '*')\n",
      "    *name*\n",
      "    ~~~\n",
      "\n",
      "1.  If the variable `s` refers to a string,\n",
      "    then `s[0]` is the string's first character\n",
      "    and `s[-1]` is its last.\n",
      "    Write a function called `outer`\n",
      "    that returns a string made up of just the first and last characters of its input:\n",
      "\n",
      "    ~~~python\n",
      "    print outer('helium')\n",
      "    hm\n",
      "    ~~~"
     ]
    },
    {
     "cell_type": "heading",
     "level": 3,
     "metadata": {
      "cell_tags": []
     },
     "source": [
      "The Call Stack"
     ]
    },
    {
     "cell_type": "markdown",
     "metadata": {},
     "source": [
      "<a href=\"http://www.pythontutor.com/\">http://www.pythontutor.com/</a>\n",
      "\n",
      "<a href=\"http://www.pythontutor.com/visualize.html#code=def+fahr_to_kelvin(temp)%3A%0A++++return+((temp+-+32)+*+(5.0/9.0))+%2B+273.15%0A%0Adef+kelvin_to_celcius(temp)%3A%0A++++return+temp+-+273.15%0A%0Adef+fahr_to_celcius(temp)%3A%0A++++temp_k+%3D+fahr_to_kelvin(temp)%0A++++result+%3D+kelvin_to_celcius(temp_k)%0A++++return+result%0A%0Aoriginal+%3D+32.0%0Afinal+%3D+fahr_to_celcius(original)%0A%0Aprint+'final+value+of+temp+after+all+function+calls',+temp&mode=display&cumulative=false&heapPrimitives=false&drawParentPointers=false&textReferences=false&showOnlyOutputs=false&py=2&curInstr=0\">Farenheit to Celcius Example</a>"
     ]
    },
    {
     "cell_type": "markdown",
     "metadata": {
      "cell_tags": [
       "challenges"
      ]
     },
     "source": [
      "#### Challenges\n",
      "\n",
      "1.  We previously wrote functions called `fence` and `outer`.\n",
      "    Draw a diagram showing how the call stack changes when we run the following:\n",
      "    ~~~python\n",
      "    print outer(fence('carbon', '+'))\n",
      "    ~~~"
     ]
    },
    {
     "cell_type": "heading",
     "level": 3,
     "metadata": {
      "cell_tags": []
     },
     "source": [
      "Testing and Documenting"
     ]
    },
    {
     "cell_type": "code",
     "collapsed": false,
     "input": [],
     "language": "python",
     "metadata": {},
     "outputs": []
    },
    {
     "cell_type": "markdown",
     "metadata": {
      "cell_tags": [
       "challenges"
      ]
     },
     "source": [
      "#### Challenges\n",
      "\n",
      "1.  Write a function called `analyze` that takes a filename as a parameter\n",
      "    and displays the three graphs produced in the [previous lesson](01-numpy.ipynb),\n",
      "    i.e.,\n",
      "    `analyze('inflammation-01.csv')` should produce the graphs already shown,\n",
      "    while `analyze('inflammation-02.csv')` should produce corresponding graphs for the second data set.\n",
      "    Be sure to give your function a docstring.\n",
      "\n",
      "2.  Write a function `normalize` that takes an array as input\n",
      "    and returns a corresponding array of values scaled to lie in the range 0.0 to 1.0.\n",
      "    (If $L$ and $H$ are the lowest and highest values in the original array,\n",
      "    then the replacement for a value $v$ should be $(v-L) / (H-L)$.)\n",
      "    Be sure to give the function a docstring.\n",
      "\n",
      "3.  Run the commands `help(numpy.arange)` and `help(numpy.linspace)`\n",
      "    to see how to use these functions to generate regularly-spaced values,\n",
      "    then use those values to test your `normalize` function."
     ]
    },
    {
     "cell_type": "heading",
     "level": 3,
     "metadata": {
      "cell_tags": []
     },
     "source": [
      "Defining Defaults"
     ]
    },
    {
     "cell_type": "code",
     "collapsed": false,
     "input": [],
     "language": "python",
     "metadata": {},
     "outputs": []
    },
    {
     "cell_type": "markdown",
     "metadata": {
      "cell_tags": [
       "challenges"
      ]
     },
     "source": [
      "#### Challenges\n",
      "\n",
      "1.  Rewrite the `normalize` function so that it scales data to lie between 0.0 and 1.0 by default,\n",
      "    but will allow the caller to specify lower and upper bounds if they want.\n",
      "    Compare your implementation to your neighbor's:\n",
      "    do the two functions always behave the same way?"
     ]
    },
    {
     "cell_type": "heading",
     "level": 2,
     "metadata": {
      "cell_tags": []
     },
     "source": [
      "Analyzing Multiple Data Sets"
     ]
    },
    {
     "cell_type": "code",
     "collapsed": false,
     "input": [
      "%matplotlib inline\n",
      "\n",
      "import numpy as np\n",
      "from matplotlib import pyplot as plt\n",
      "\n",
      "def analyze(filename):\n",
      "    data = np.loadtxt(fname=filename, delimiter=',')\n",
      "    \n",
      "    plt.figure(figsize=(10.0, 3.0))\n",
      "    \n",
      "    plt.subplot(1, 3, 1)\n",
      "    plt.ylabel('average')\n",
      "    plt.plot(data.mean(0))\n",
      "    \n",
      "    plt.subplot(1, 3, 2)\n",
      "    plt.ylabel('max')\n",
      "    plt.plot(data.max(0))\n",
      "    \n",
      "    plt.subplot(1, 3, 3)\n",
      "    plt.ylabel('min')\n",
      "    plt.plot(data.min(0))\n",
      "    \n",
      "    plt.tight_layout()\n",
      "    plt.show()\n",
      "\n",
      "analyze('inflammation-01.csv')"
     ],
     "language": "python",
     "metadata": {},
     "outputs": []
    },
    {
     "cell_type": "heading",
     "level": 3,
     "metadata": {
      "cell_tags": []
     },
     "source": [
      "For Loops"
     ]
    },
    {
     "cell_type": "code",
     "collapsed": false,
     "input": [],
     "language": "python",
     "metadata": {},
     "outputs": [],
     "prompt_number": 3
    },
    {
     "cell_type": "markdown",
     "metadata": {},
     "source": [
      "<a href=\"http://www.pythontutor.com/visualize.html#code=length+%3D+0%0Afor+vowel+in+'aeiou'%3A%0A++++length+%3D+length+%2B+1%0Aprint+'There+are',+length,+'vowels'&mode=display&cumulative=false&heapPrimitives=false&drawParentPointers=false&textReferences=false&showOnlyOutputs=false&py=2&curInstr=0\">Stack in for loop</a>"
     ]
    },
    {
     "cell_type": "code",
     "collapsed": false,
     "input": [],
     "language": "python",
     "metadata": {},
     "outputs": []
    },
    {
     "cell_type": "markdown",
     "metadata": {
      "cell_tags": [
       "challenges"
      ]
     },
     "source": [
      "#### Challenges\n",
      "\n",
      "1.  Python has a built-in function called `range` that creates a list of numbers:\n",
      "    `range(3)` produces `[0, 1, 2]`, `range(2, 5)` produces `[2, 3, 4]`, and `range(2, 10, 3)` produces `[2, 5, 8]`.\n",
      "    Using `range`,\n",
      "    write a function that prints the $N$ natural numbers:\n",
      "    ~~~python\n",
      "    print_N(3)\n",
      "    1\n",
      "    2\n",
      "    3\n",
      "    ~~~\n",
      "\n",
      "1.  Exponentiation is built into Python:\n",
      "    ~~~python\n",
      "    print 2**4\n",
      "    16\n",
      "    ~~~\n",
      "    It also has a function called `pow` that calculates the same value.\n",
      "    Write a function called `expo` that uses a loop to calculate the same result.\n",
      "\n",
      "1.  Python's strings have methods, just like NumPy's arrays.\n",
      "    One of these is called `reverse`:\n",
      "    ~~~python\n",
      "    print 'Newton'.reverse()\n",
      "    notweN\n",
      "    ~~~\n",
      "    Write a function called `rev` that does the same thing:\n",
      "    ~~~python\n",
      "    print rev('Newton')\n",
      "    notweN\n",
      "    ~~~\n",
      "    As always, be sure to include a docstring."
     ]
    },
    {
     "cell_type": "heading",
     "level": 3,
     "metadata": {
      "cell_tags": []
     },
     "source": [
      "Lists"
     ]
    },
    {
     "cell_type": "code",
     "collapsed": false,
     "input": [],
     "language": "python",
     "metadata": {},
     "outputs": []
    },
    {
     "cell_type": "markdown",
     "metadata": {
      "cell_tags": [
       "challenges"
      ]
     },
     "source": [
      "#### Challenges\n",
      "\n",
      "1.  Write a function called `total` that calculates the sum of the values in a list.\n",
      "    (Python has a built-in function called `sum` that does this for you.\n",
      "    Please don't use it for this exercise.)"
     ]
    },
    {
     "cell_type": "heading",
     "level": 3,
     "metadata": {
      "cell_tags": []
     },
     "source": [
      "Processing Multiple Files"
     ]
    },
    {
     "cell_type": "code",
     "collapsed": false,
     "input": [],
     "language": "python",
     "metadata": {},
     "outputs": []
    },
    {
     "cell_type": "markdown",
     "metadata": {
      "cell_tags": [
       "challenges"
      ]
     },
     "source": [
      "#### Challenges\n",
      "\n",
      "1.  Write a function called `analyze_all` that takes a filename pattern as its sole argument\n",
      "    and runs `analyze` for each file whose name matches the pattern."
     ]
    },
    {
     "cell_type": "heading",
     "level": 2,
     "metadata": {
      "cell_tags": []
     },
     "source": [
      "Making Choices"
     ]
    },
    {
     "cell_type": "code",
     "collapsed": false,
     "input": [],
     "language": "python",
     "metadata": {},
     "outputs": []
    },
    {
     "cell_type": "heading",
     "level": 3,
     "metadata": {
      "cell_tags": []
     },
     "source": [
      "Image Grids"
     ]
    },
    {
     "cell_type": "code",
     "collapsed": false,
     "input": [],
     "language": "python",
     "metadata": {},
     "outputs": []
    },
    {
     "cell_type": "markdown",
     "metadata": {
      "cell_tags": [
       "challenges"
      ]
     },
     "source": [
      "#### Challenges\n",
      "\n",
      "1.  Fill in the `____` in the code below to create a bar that changes color from dark blue to black.\n",
      "\n",
      "    ~~~python\n",
      "    bar = ImageGrid(10, 1)\n",
      "    for x in range(10):\n",
      "        bar[x, 0] = (0, 0, ____)\n",
      "    bar.show()\n",
      "    ~~~\n",
      "\n",
      "2.  Why do computers use red, green, and blue as their primary colors?"
     ]
    },
    {
     "cell_type": "heading",
     "level": 3,
     "metadata": {
      "cell_tags": []
     },
     "source": [
      "Conditionals"
     ]
    },
    {
     "cell_type": "code",
     "collapsed": false,
     "input": [],
     "language": "python",
     "metadata": {},
     "outputs": []
    },
    {
     "cell_type": "markdown",
     "metadata": {
      "cell_tags": [
       "challenges"
      ]
     },
     "source": [
      "#### Challenges\n",
      "\n",
      "1.  `True` and `False` aren't the only values in Python that are true and false.\n",
      "    In fact, *any* value can be used in an `if` or `elif`.\n",
      "    After reading and running the code below,\n",
      "    explain what the rule is for which values are considered true and which are considered false.\n",
      "    (Note that if the body of a conditional is a single statement, we can write it on the same line as the `if`.)\n",
      "    \n",
      "    ~~~python\n",
      "    if '': print 'empty string is true'\n",
      "    if 'word': print 'word is true'\n",
      "    if []: print 'empty list is true'\n",
      "    if [1, 2, 3]: print 'non-empty list is true'\n",
      "    if 0: print 'zero is true'\n",
      "    if 1: print 'one is true'\n",
      "    ~~~\n",
      "\n",
      "2.  Write a function called `near` that returns `True` if its first parameter is within 10% of its second\n",
      "    and `False` otherwise.\n",
      "    Compare your implementation with your partner's:\n",
      "    do you return the same answer for all possible pairs of numbers?"
     ]
    },
    {
     "cell_type": "heading",
     "level": 3,
     "metadata": {
      "cell_tags": []
     },
     "source": [
      "Nesting"
     ]
    },
    {
     "cell_type": "code",
     "collapsed": false,
     "input": [],
     "language": "python",
     "metadata": {},
     "outputs": []
    },
    {
     "cell_type": "markdown",
     "metadata": {
      "cell_tags": [
       "challenges"
      ]
     },
     "source": [
      "#### Challenges\n",
      "\n",
      "1.  Will changing the nesting of the loops in the code above&mdash;i.e.,\n",
      "    wrapping the Y-axis loop around the X-axis loop&mdash;change the final image?\n",
      "    Why or why not?\n",
      "\n",
      "2.  Python (and most other languages in the C family) provides [in-place operators](../../gloss.html#in-place-operator)\n",
      "    that work like this:\n",
      "    \n",
      "    ~~~python\n",
      "    x = 1  # original value\n",
      "    x += 1 # add one to x, assigning result back to x\n",
      "    x *= 3 # multiply x by 3\n",
      "    print x\n",
      "    6\n",
      "    ~~~\n",
      "    \n",
      "    Rewrite the code that sums the positive and negative numbers in a list\n",
      "    using in-place operators.\n",
      "    Do you think the result is more or less readable than the original?"
     ]
    },
    {
     "cell_type": "heading",
     "level": 3,
     "metadata": {
      "cell_tags": []
     },
     "source": [
      "Creating a Heat Map"
     ]
    },
    {
     "cell_type": "code",
     "collapsed": false,
     "input": [],
     "language": "python",
     "metadata": {},
     "outputs": []
    },
    {
     "cell_type": "markdown",
     "metadata": {},
     "source": [
      "#### Challenges\n",
      "\n",
      "1.  Why did we transpose our data outside our heat map function?\n",
      "    Why not have the function perform the transpose?\n",
      "\n",
      "2.  Why does the heat map function return the grid rather than displaying it immediately?\n",
      "    Do you think this is a good or bad design choice?\n",
      "\n",
      "3.  Explain what the overall effect of this code is:\n",
      "    ~~~\n",
      "    temp = left\n",
      "    left = right\n",
      "    right = temp\n",
      "    ~~~\n",
      "    Compare it to:\n",
      "    ~~~\n",
      "    left, right = right, left\n",
      "    ~~~\n",
      "    Do they always do the same thing?\n",
      "    Which do you find easier to read?"
     ]
    }
   ],
   "metadata": {}
  }
 ]
}